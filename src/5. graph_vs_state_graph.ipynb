{
 "cells": [
  {
   "cell_type": "code",
   "execution_count": 1,
   "metadata": {},
   "outputs": [
    {
     "name": "stdout",
     "output_type": "stream",
     "text": [
      "{'output': 'HELLO'}\n",
      "{'output': 'WORLD'}\n"
     ]
    }
   ],
   "source": [
    "from langgraph.graph import END, Graph, START\n",
    "\n",
    "graph = Graph()\n",
    "\n",
    "# 노드 1: 입력 문자열을 변환\n",
    "def process_input(inputs):\n",
    "    return {\"output\": inputs[\"input\"].upper()}\n",
    "\n",
    "graph.add_node(\"process\", process_input)\n",
    "\n",
    "graph.add_edge(START, \"process\")\n",
    "graph.add_edge(\"process\", END)\n",
    "\n",
    "app = graph.compile()\n",
    "\n",
    "# 두 번 실행\n",
    "print(app.invoke({\"input\": \"hello\"}))  # {'output': 'HELLO'}\n",
    "print(app.invoke({\"input\": \"world\"}))  # {'output': 'WORLD'}\n"
   ]
  },
  {
   "cell_type": "code",
   "execution_count": 2,
   "metadata": {},
   "outputs": [
    {
     "data": {
      "image/png": "[encoded data removed]",
      "text/plain": [
       "<IPython.core.display.Image object>"
      ]
     },
     "metadata": {},
     "output_type": "display_data"
    }
   ],
   "source": [
    "from IPython.display import Image, display\n",
    "\n",
    "try:\n",
    "    display(Image(app.get_graph(xray=True).draw_mermaid_png()))\n",
    "except Exception:\n",
    "    # This requires some extra dependencies and is optional\n",
    "    pass"
   ]
  },
  {
   "cell_type": "code",
   "execution_count": 21,
   "metadata": {},
   "outputs": [
    {
     "name": "stdout",
     "output_type": "stream",
     "text": [
      "{'length': 20, 'message': 'hello'}\n"
     ]
    }
   ],
   "source": [
    "from langgraph.graph import StateGraph\n",
    "from typing_extensions import TypedDict\n",
    "\n",
    "class MyState(TypedDict):\n",
    "    length: int\n",
    "    message: str\n",
    "\n",
    "graph = StateGraph(MyState)\n",
    "\n",
    "# 노드: 입력을 상태에 저장\n",
    "def update_memory1(state: MyState):\n",
    "    if \"length\" not in state.keys():\n",
    "        state[\"length\"] = 0\n",
    "    state[\"length\"] += len(state[\"message\"])\n",
    "    return state\n",
    "\n",
    "def update_memory2(state: MyState):\n",
    "    if \"length\" not in state.keys():\n",
    "        state[\"length\"] = 0\n",
    "    state[\"length\"] += len(state[\"message\"])\n",
    "    return state\n",
    "\n",
    "graph.add_node(\"update_memory1\", update_memory1)\n",
    "graph.add_node(\"update_memory2\", update_memory2)\n",
    "graph.add_edge(START, \"update_memory1\")\n",
    "graph.add_edge(\"update_memory1\", \"update_memory2\")\n",
    "graph.add_edge(\"update_memory2\", END)\n",
    "\n",
    "app = graph.compile()\n",
    "\n",
    "state = app.invoke({\"message\": \"hello\"})\n",
    "state = app.invoke(state)\n",
    "print(state)"
   ]
  },
  {
   "cell_type": "code",
   "execution_count": null,
   "metadata": {},
   "outputs": [],
   "source": []
  }
 ],
 "metadata": {
  "kernelspec": {
   "display_name": "Python 3",
   "language": "python",
   "name": "python3"
  },
  "language_info": {
   "codemirror_mode": {
    "name": "ipython",
    "version": 3
   },
   "file_extension": ".py",
   "mimetype": "text/x-python",
   "name": "python",
   "nbconvert_exporter": "python",
   "pygments_lexer": "ipython3",
   "version": "3.10.12"
  }
 },
 "nbformat": 4,
 "nbformat_minor": 2
}
