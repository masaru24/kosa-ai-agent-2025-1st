{
 "cells": [
  {
   "cell_type": "code",
   "execution_count": 1,
   "metadata": {},
   "outputs": [],
   "source": [
    "import langgraph\n",
    "from langchain.chat_models import ChatOpenAI\n",
    "from langchain.schema import SystemMessage, HumanMessage"
   ]
  },
  {
   "cell_type": "code",
   "execution_count": 2,
   "metadata": {},
   "outputs": [
    {
     "name": "stderr",
     "output_type": "stream",
     "text": [
      "/tmp/ipykernel_65162/3971565783.py:3: LangChainDeprecationWarning: The class `ChatOpenAI` was deprecated in LangChain 0.0.10 and will be removed in 1.0. An updated version of the class exists in the :class:`~langchain-openai package and should be used instead. To use it run `pip install -U :class:`~langchain-openai` and import as `from :class:`~langchain_openai import ChatOpenAI``.\n",
      "  llm = ChatOpenAI(model=os.getenv(\"OPENAI_DEFAULT_MODEL\"))\n"
     ]
    }
   ],
   "source": [
    "import os\n",
    "\n",
    "llm = ChatOpenAI(model=os.getenv(\"OPENAI_DEFAULT_MODEL\"))"
   ]
  },
  {
   "cell_type": "code",
   "execution_count": 3,
   "metadata": {},
   "outputs": [],
   "source": [
    "def code_style_check(inputs):\n",
    "    code = inputs[\"code\"]\n",
    "    prompt = (\n",
    "        \"다음 코드의 스타일을 점검하고 PEP8 준수 여부를 확인하세요:\\n\" + code\n",
    "    )\n",
    "    response = llm.invoke([HumanMessage(content=prompt)])\n",
    "    inputs[\"style_feedback\"] = response.content\n",
    "    return inputs\n",
    "\n",
    "def bug_detection(inputs):\n",
    "    code = inputs[\"code\"]\n",
    "    prompt = (\n",
    "        \"다음 코드에서 잠재적인 버그나 논리적 오류를 찾아 설명하세요:\\n\" + code\n",
    "    )\n",
    "    response = llm.invoke([HumanMessage(content=prompt)])\n",
    "    inputs[\"bug_feedback\"] = response.content\n",
    "    return inputs\n",
    "\n",
    "def optimization_suggestions(inputs):\n",
    "    code = inputs[\"code\"]\n",
    "    prompt = (\n",
    "        \"다음 코드를 더 효율적으로 최적화할 수 있는 방법을 제안하세요:\\n\" + code\n",
    "    )\n",
    "    response = llm.invoke([HumanMessage(content=prompt)])\n",
    "    inputs[\"optimization_feedback\"] = response.content\n",
    "    return inputs\n",
    "\n",
    "def aggregate_feedback(inputs):\n",
    "    code = inputs[\"code\"]\n",
    "    feedback = (\n",
    "        \"코드 스타일 피드백:\\n\" + inputs[\"style_feedback\"] + \"\\n\\n\"\n",
    "        \"버그 가능성 분석:\\n\" + inputs[\"bug_feedback\"] + \"\\n\\n\"\n",
    "        \"최적화 제안:\\n\" + inputs[\"optimization_feedback\"]\n",
    "    )\n",
    "    prompt = (\n",
    "        \"다음 코드와 피드백을 바탕으로 개선된 코드를 작성하세요. 반드시 코드만 출력해야 합니다.\\n\" + \\\n",
    "            \"code: \" + code + \"\\n\\n\" \\\n",
    "            \"피드백: \" + feedback\n",
    "    )\n",
    "    response = llm.invoke([HumanMessage(content=prompt)])\n",
    "    return {\"code\": response.content, \"final_feedback\": feedback}"
   ]
  },
  {
   "cell_type": "code",
   "execution_count": 4,
   "metadata": {},
   "outputs": [],
   "source": [
    "from langgraph.graph import END, Graph, START\n",
    "\n",
    "# LangGraph 워크플로우 구축\n",
    "graph = Graph()\n",
    "graph.add_node(\"style_check\", code_style_check)\n",
    "graph.add_node(\"bug_check\", bug_detection)\n",
    "graph.add_node(\"optimization_check\", optimization_suggestions)\n",
    "graph.add_node(\"aggregate\", aggregate_feedback)\n",
    "\n",
    "# 데이터 흐름 정의\n",
    "graph.add_edge(START, \"style_check\")\n",
    "graph.add_edge(\"style_check\", \"bug_check\")\n",
    "graph.add_edge(\"bug_check\", \"optimization_check\")\n",
    "graph.add_edge(\"optimization_check\", \"aggregate\")\n",
    "graph.add_edge(\"aggregate\", END)\n",
    "\n",
    "app = graph.compile()\n"
   ]
  },
  {
   "cell_type": "code",
   "execution_count": 5,
   "metadata": {},
   "outputs": [
    {
     "data": {
      "image/png": "[encoded data removed]",
      "text/plain": [
       "<IPython.core.display.Image object>"
      ]
     },
     "metadata": {},
     "output_type": "display_data"
    }
   ],
   "source": [
    "from IPython.display import Image, display\n",
    "\n",
    "try:\n",
    "    display(Image(app.get_graph(xray=True).draw_mermaid_png()))\n",
    "except Exception:\n",
    "    # This requires some extra dependencies and is optional\n",
    "    pass"
   ]
  },
  {
   "cell_type": "code",
   "execution_count": 6,
   "metadata": {},
   "outputs": [
    {
     "name": "stdout",
     "output_type": "stream",
     "text": [
      "코드 스타일 피드백:\n",
      "제공하신 코드는 PEP 8 스타일 가이드에 몇 가지 위반 사항이 있습니다. PEP 8은 Python 코드의 스타일을 일관되게 유지하기 위한 규칙입니다. 다음은 문제점과 수정 사항입니다.\n",
      "\n",
      "1. **인덴트**: 함수의 본체는 반드시 들여쓰기가 필요합니다. `return` 문은 함수의 정의와 같은 수준으로 들여쓰기 되어야 합니다.\n",
      "2. **연산자 주변의 공백**: `+` 연산자 주변에는 공백을 추가하는 것이 좋습니다.\n",
      "\n",
      "수정된 코드는 다음과 같습니다:\n",
      "\n",
      "```python\n",
      "def add_numbers(a, b):\n",
      "    return a + b\n",
      "```\n",
      "\n",
      "이 수정된 코드는 PEP 8 가이드라인을 준수합니다.\n",
      "\n",
      "버그 가능성 분석:\n",
      "제공된 코드에서 잠재적인 버그나 논리적 오류는 다음과 같습니다:\n",
      "\n",
      "1. **들여쓰기 문제**: 파이썬에서는 들여쓰기가 매우 중요합니다. `return` 문이 `add_numbers` 함수의 본문에 포함되어야 하는데, 현재 코드에서는 들여쓰기가 되어 있지 않아 문법 오류(SyntaxError)가 발생합니다. 올바른 코드는 다음과 같아야 합니다:\n",
      "\n",
      "    ```python\n",
      "    def add_numbers(a, b):\n",
      "        return a + b\n",
      "    ```\n",
      "\n",
      "2. **입력 값의 타입 검증**: 함수는 두 개의 입력 값을 받아서 더합니다. 그러나 입력 값이 숫자(예: 정수 또는 실수)인지 확인하지 않으면, 사용자가 문자열이나 다른 타입을 입력했을 때 TypeError가 발생할 수 있습니다. 예를 들어, `add_numbers(\"1\", \"2\")`와 같이 호출하면 문자열이 더해져서 예상치 못한 결과가 발생할 수 있습니다. 이를 방지하기 위해 입력 값의 타입을 검증하거나 예외 처리를 추가하는 것이 좋습니다. 예를 들어:\n",
      "\n",
      "    ```python\n",
      "    def add_numbers(a, b):\n",
      "        if not (isinstance(a, (int, float)) and isinstance(b, (int, float))):\n",
      "            raise ValueError(\"Both arguments must be numbers\")\n",
      "        return a + b\n",
      "    ```\n",
      "\n",
      "3. **사용자 정의 예외 처리**: 일반적인 예외를 발생시키는 대신, 보다 구체적인 사용자 정의 예외를 만들어서 오류 발생 시 더 많은 정보를 제공할 수 있습니다. \n",
      "\n",
      "이러한 점들을 고려하면 코드의 안정성과 가독성을 높일 수 있습니다.\n",
      "\n",
      "최적화 제안:\n",
      "주어진 코드는 두 숫자를 더하는 간단한 함수입니다. 이 함수 자체는 이미 매우 효율적입니다. 그러나 조금 더 일반적인 경우나 추가적인 기능을 고려하면 몇 가지 최적화나 개선점을 제안할 수 있습니다.\n",
      "\n",
      "1. **타입 힌트 추가**: 함수의 입력과 출력을 명확하게 하기 위해 타입 힌트를 추가할 수 있습니다.\n",
      "   ```python\n",
      "   def add_numbers(a: float, b: float) -> float:\n",
      "       return a + b\n",
      "   ```\n",
      "\n",
      "2. **예외 처리 추가**: 입력 값이 숫자가 아닐 경우에 대한 예외 처리를 추가하여 함수의 안정성을 높일 수 있습니다.\n",
      "   ```python\n",
      "   def add_numbers(a: float, b: float) -> float:\n",
      "       if not (isinstance(a, (int, float)) and isinstance(b, (int, float))):\n",
      "           raise ValueError(\"Both a and b must be numbers.\")\n",
      "       return a + b\n",
      "   ```\n",
      "\n",
      "3. **기본값 제공**: 기본값을 제공하여 함수 호출을 좀 더 유연하게 만들 수 있습니다.\n",
      "   ```python\n",
      "   def add_numbers(a: float = 0, b: float = 0) -> float:\n",
      "       return a + b\n",
      "   ```\n",
      "\n",
      "4. **다수의 숫자 더하기**: 여러 개의 숫자를 더할 수 있도록 변경하여 기능을 확장할 수 있습니다.\n",
      "   ```python\n",
      "   def add_numbers(*args: float) -> float:\n",
      "       return sum(args)\n",
      "   ```\n",
      "\n",
      "5. **문서화**: 함수에 대한 설명을 추가하여 사용자가 이해하기 쉽게 만들 수 있습니다.\n",
      "   ```python\n",
      "   def add_numbers(*args: float) -> float:\n",
      "       \"\"\"\n",
      "       여러 숫자를 더합니다.\n",
      "\n",
      "       :param args: 더할 숫자들\n",
      "       :return: 모든 숫자의 합\n",
      "       \"\"\"\n",
      "       return sum(args)\n",
      "   ```\n",
      "\n",
      "이러한 개선 사항들은 코드의 효율성을 높이기보다는 가독성, 안정성 및 유연성을 향상시킵니다. 원래 함수는 더하기 연산이라는 점에서 이미 최적화된 상태이기 때문에, 이러한 부가적인 기능이 더 중요한 경우에 유용할 것입니다.\n"
     ]
    }
   ],
   "source": [
    "sample_code = \"\"\"\n",
    "def add_numbers(a, b):\n",
    "return a+b\n",
    "\"\"\"\n",
    "result = app.invoke({\"code\": sample_code})\n",
    "print(result[\"final_feedback\"])"
   ]
  },
  {
   "cell_type": "code",
   "execution_count": 7,
   "metadata": {},
   "outputs": [
    {
     "name": "stdout",
     "output_type": "stream",
     "text": [
      "```python\n",
      "def add_numbers(*args: float) -> float:\n",
      "    \"\"\"\n",
      "    여러 숫자를 더합니다.\n",
      "\n",
      "    :param args: 더할 숫자들\n",
      "    :return: 모든 숫자의 합\n",
      "    \"\"\"\n",
      "    if not all(isinstance(x, (int, float)) for x in args):\n",
      "        raise ValueError(\"모든 인자는 숫자여야 합니다.\")\n",
      "    return sum(args)\n",
      "```\n"
     ]
    }
   ],
   "source": [
    "print(result[\"code\"])"
   ]
  }
 ],
 "metadata": {
  "kernelspec": {
   "display_name": "Python 3",
   "language": "python",
   "name": "python3"
  },
  "language_info": {
   "codemirror_mode": {
    "name": "ipython",
    "version": 3
   },
   "file_extension": ".py",
   "mimetype": "text/x-python",
   "name": "python",
   "nbconvert_exporter": "python",
   "pygments_lexer": "ipython3",
   "version": "3.10.12"
  }
 },
 "nbformat": 4,
 "nbformat_minor": 2
}
