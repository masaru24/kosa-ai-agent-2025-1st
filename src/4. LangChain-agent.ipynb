{
 "cells": [
  {
   "cell_type": "code",
   "execution_count": null,
   "metadata": {},
   "outputs": [],
   "source": [
    "# https://app.tavily.com/sign-in"
   ]
  },
  {
   "cell_type": "code",
   "execution_count": 1,
   "metadata": {},
   "outputs": [
    {
     "name": "stdout",
     "output_type": "stream",
     "text": [
      "Defaulting to user installation because normal site-packages is not writeable\n",
      "Requirement already satisfied: langchain in /home/ubuntu/.local/lib/python3.10/site-packages (0.3.19)\n",
      "Requirement already satisfied: langchain-community in /home/ubuntu/.local/lib/python3.10/site-packages (0.3.18)\n",
      "Requirement already satisfied: pypdf in /home/ubuntu/.local/lib/python3.10/site-packages (5.3.0)\n",
      "Requirement already satisfied: tiktoken in /home/ubuntu/.local/lib/python3.10/site-packages (0.9.0)\n",
      "Requirement already satisfied: faiss-cpu in /home/ubuntu/.local/lib/python3.10/site-packages (1.10.0)\n",
      "Requirement already satisfied: async-timeout<5.0.0,>=4.0.0 in /home/ubuntu/.local/lib/python3.10/site-packages (from langchain) (4.0.3)\n",
      "Requirement already satisfied: pydantic<3.0.0,>=2.7.4 in /home/ubuntu/.local/lib/python3.10/site-packages (from langchain) (2.10.6)\n",
      "Requirement already satisfied: PyYAML>=5.3 in /usr/lib/python3/dist-packages (from langchain) (5.4.1)\n",
      "Requirement already satisfied: requests<3,>=2 in /home/ubuntu/.local/lib/python3.10/site-packages (from langchain) (2.32.3)\n",
      "Requirement already satisfied: SQLAlchemy<3,>=1.4 in /home/ubuntu/.local/lib/python3.10/site-packages (from langchain) (2.0.38)\n",
      "Requirement already satisfied: langchain-core<1.0.0,>=0.3.35 in /home/ubuntu/.local/lib/python3.10/site-packages (from langchain) (0.3.39)\n",
      "Requirement already satisfied: tenacity!=8.4.0,<10,>=8.1.0 in /home/ubuntu/.local/lib/python3.10/site-packages (from langchain) (9.0.0)\n",
      "Requirement already satisfied: langsmith<0.4,>=0.1.17 in /home/ubuntu/.local/lib/python3.10/site-packages (from langchain) (0.3.10)\n",
      "Requirement already satisfied: aiohttp<4.0.0,>=3.8.3 in /home/ubuntu/.local/lib/python3.10/site-packages (from langchain) (3.11.12)\n",
      "Requirement already satisfied: langchain-text-splitters<1.0.0,>=0.3.6 in /home/ubuntu/.local/lib/python3.10/site-packages (from langchain) (0.3.6)\n",
      "Requirement already satisfied: numpy<2,>=1.26.4 in /home/ubuntu/.local/lib/python3.10/site-packages (from langchain) (1.26.4)\n",
      "Requirement already satisfied: dataclasses-json<0.7,>=0.5.7 in /home/ubuntu/.local/lib/python3.10/site-packages (from langchain-community) (0.6.7)\n",
      "Requirement already satisfied: pydantic-settings<3.0.0,>=2.4.0 in /home/ubuntu/.local/lib/python3.10/site-packages (from langchain-community) (2.8.0)\n",
      "Requirement already satisfied: httpx-sse<1.0.0,>=0.4.0 in /home/ubuntu/.local/lib/python3.10/site-packages (from langchain-community) (0.4.0)\n",
      "Requirement already satisfied: typing_extensions>=4.0 in /home/ubuntu/.local/lib/python3.10/site-packages (from pypdf) (4.12.2)\n",
      "Requirement already satisfied: regex>=2022.1.18 in /home/ubuntu/.local/lib/python3.10/site-packages (from tiktoken) (2024.11.6)\n",
      "Requirement already satisfied: packaging in /home/ubuntu/.local/lib/python3.10/site-packages (from faiss-cpu) (24.2)\n",
      "Requirement already satisfied: attrs>=17.3.0 in /usr/lib/python3/dist-packages (from aiohttp<4.0.0,>=3.8.3->langchain) (21.2.0)\n",
      "Requirement already satisfied: multidict<7.0,>=4.5 in /home/ubuntu/.local/lib/python3.10/site-packages (from aiohttp<4.0.0,>=3.8.3->langchain) (6.1.0)\n",
      "Requirement already satisfied: aiohappyeyeballs>=2.3.0 in /home/ubuntu/.local/lib/python3.10/site-packages (from aiohttp<4.0.0,>=3.8.3->langchain) (2.4.6)\n",
      "Requirement already satisfied: frozenlist>=1.1.1 in /home/ubuntu/.local/lib/python3.10/site-packages (from aiohttp<4.0.0,>=3.8.3->langchain) (1.5.0)\n",
      "Requirement already satisfied: aiosignal>=1.1.2 in /home/ubuntu/.local/lib/python3.10/site-packages (from aiohttp<4.0.0,>=3.8.3->langchain) (1.3.2)\n",
      "Requirement already satisfied: yarl<2.0,>=1.17.0 in /home/ubuntu/.local/lib/python3.10/site-packages (from aiohttp<4.0.0,>=3.8.3->langchain) (1.18.3)\n",
      "Requirement already satisfied: propcache>=0.2.0 in /home/ubuntu/.local/lib/python3.10/site-packages (from aiohttp<4.0.0,>=3.8.3->langchain) (0.3.0)\n",
      "Requirement already satisfied: marshmallow<4.0.0,>=3.18.0 in /home/ubuntu/.local/lib/python3.10/site-packages (from dataclasses-json<0.7,>=0.5.7->langchain-community) (3.26.1)\n",
      "Requirement already satisfied: typing-inspect<1,>=0.4.0 in /home/ubuntu/.local/lib/python3.10/site-packages (from dataclasses-json<0.7,>=0.5.7->langchain-community) (0.9.0)\n",
      "Requirement already satisfied: jsonpatch<2.0,>=1.33 in /home/ubuntu/.local/lib/python3.10/site-packages (from langchain-core<1.0.0,>=0.3.35->langchain) (1.33)\n",
      "Requirement already satisfied: orjson<4.0.0,>=3.9.14 in /home/ubuntu/.local/lib/python3.10/site-packages (from langsmith<0.4,>=0.1.17->langchain) (3.10.15)\n",
      "Requirement already satisfied: zstandard<0.24.0,>=0.23.0 in /home/ubuntu/.local/lib/python3.10/site-packages (from langsmith<0.4,>=0.1.17->langchain) (0.23.0)\n",
      "Requirement already satisfied: httpx<1,>=0.23.0 in /home/ubuntu/.local/lib/python3.10/site-packages (from langsmith<0.4,>=0.1.17->langchain) (0.28.1)\n",
      "Requirement already satisfied: requests-toolbelt<2.0.0,>=1.0.0 in /home/ubuntu/.local/lib/python3.10/site-packages (from langsmith<0.4,>=0.1.17->langchain) (1.0.0)\n",
      "Requirement already satisfied: pydantic-core==2.27.2 in /home/ubuntu/.local/lib/python3.10/site-packages (from pydantic<3.0.0,>=2.7.4->langchain) (2.27.2)\n",
      "Requirement already satisfied: annotated-types>=0.6.0 in /home/ubuntu/.local/lib/python3.10/site-packages (from pydantic<3.0.0,>=2.7.4->langchain) (0.7.0)\n",
      "Requirement already satisfied: python-dotenv>=0.21.0 in /home/ubuntu/.local/lib/python3.10/site-packages (from pydantic-settings<3.0.0,>=2.4.0->langchain-community) (1.0.1)\n",
      "Requirement already satisfied: charset-normalizer<4,>=2 in /home/ubuntu/.local/lib/python3.10/site-packages (from requests<3,>=2->langchain) (3.4.1)\n",
      "Requirement already satisfied: urllib3<3,>=1.21.1 in /home/ubuntu/.local/lib/python3.10/site-packages (from requests<3,>=2->langchain) (2.3.0)\n",
      "Requirement already satisfied: certifi>=2017.4.17 in /usr/lib/python3/dist-packages (from requests<3,>=2->langchain) (2020.6.20)\n",
      "Requirement already satisfied: idna<4,>=2.5 in /usr/lib/python3/dist-packages (from requests<3,>=2->langchain) (3.3)\n",
      "Requirement already satisfied: greenlet!=0.4.17 in /home/ubuntu/.local/lib/python3.10/site-packages (from SQLAlchemy<3,>=1.4->langchain) (3.1.1)\n",
      "Requirement already satisfied: httpcore==1.* in /home/ubuntu/.local/lib/python3.10/site-packages (from httpx<1,>=0.23.0->langsmith<0.4,>=0.1.17->langchain) (1.0.7)\n",
      "Requirement already satisfied: anyio in /home/ubuntu/.local/lib/python3.10/site-packages (from httpx<1,>=0.23.0->langsmith<0.4,>=0.1.17->langchain) (4.8.0)\n",
      "Requirement already satisfied: h11<0.15,>=0.13 in /home/ubuntu/.local/lib/python3.10/site-packages (from httpcore==1.*->httpx<1,>=0.23.0->langsmith<0.4,>=0.1.17->langchain) (0.14.0)\n",
      "Requirement already satisfied: jsonpointer>=1.9 in /usr/lib/python3/dist-packages (from jsonpatch<2.0,>=1.33->langchain-core<1.0.0,>=0.3.35->langchain) (2.0)\n",
      "Requirement already satisfied: mypy-extensions>=0.3.0 in /home/ubuntu/.local/lib/python3.10/site-packages (from typing-inspect<1,>=0.4.0->dataclasses-json<0.7,>=0.5.7->langchain-community) (1.0.0)\n",
      "Requirement already satisfied: sniffio>=1.1 in /home/ubuntu/.local/lib/python3.10/site-packages (from anyio->httpx<1,>=0.23.0->langsmith<0.4,>=0.1.17->langchain) (1.3.1)\n",
      "Requirement already satisfied: exceptiongroup>=1.0.2 in /home/ubuntu/.local/lib/python3.10/site-packages (from anyio->httpx<1,>=0.23.0->langsmith<0.4,>=0.1.17->langchain) (1.2.2)\n"
     ]
    }
   ],
   "source": [
    "!pip install langchain langchain-community pypdf tiktoken faiss-cpu"
   ]
  },
  {
   "cell_type": "code",
   "execution_count": 2,
   "metadata": {},
   "outputs": [
    {
     "data": {
      "text/plain": [
       "[{'url': 'https://blog.naver.com/dltntks6392/223550918780?viewType=pc',\n",
       "  'content': '... 은 판교 삼평동 유스페이스에 위치한. 빈티지 1988이라는 이탈리안 레스토랑을 소개드립니다. 요즘은 너무 더워. 테라스에 앉긴 힘들지만. 봄가을엔'},\n",
       " {'url': 'https://blog.naver.com/PostView.nhn?blogId=naaerani&logNo=223466554032&redirect=Dlog&widgetTypeCall=true',\n",
       "  'content': '방아깐 찾아오시면 아주 쉽게 찾으실 수 있어요. 판교맛집 캐주얼다이닝 에이치에이에요. 편하게 이용 가능해요. 간혹 주차단속이 나오기도 하는 곳이에'},\n",
       " {'url': 'https://www.diningcode.com/list.dc?query=%EB%B6%84%EB%8B%B9%ED%8C%90%EA%B5%90%20%EC%9D%B4%ED%83%88%EB%A6%AC%EC%95%88%EB%A0%88%EC%8A%A4%ED%86%A0%EB%9E%91',\n",
       "  'content': '2. 세렌 판교 --------- 73점 3.8 (21명) 영업 중 파스타, 이탈리안레스토랑 데이트,무료주차,깔끔한,와인콜키지  \"운중동 카페 많은 거리에 위치하고 예전부터 눈여겨 보았던 이탈리안 레스토랑 입니다...사람이 많아서 엄청 맛집인가 했는데 그건 아니고 일반 이탈리안 레스토랑과 비슷해요!..판교 이탈리안 레스토랑증에 최고인거같아요\" 4. 뚜에이오 판교 ----------- 73점 4.3 (8명) 영업 중 파스타, 이탈리안레스토랑 데이트,고급스러운,테라스  \"주차하기 정말 더럽게 힘들다는 거 빼면 단점이 없는 식당.. 5. h541 현대백화점판교점 ----------------- 71점 4.5 (5명) 영업 중 파스타, 이탈리안레스토랑 데이트,무료주차,고급스러운,예약필수  \"현대백화점 식당가에 있는 이탈리안!..판교 백화점에서 무난한 이탈리안을 먹고 싶을 때 추천합니다.\" 7. 비스트로바이콘 판교 -------------- 69점 4.3 (3명) 영업 중 파스타, 이탈리안레스토랑 점심회식,주차,배달,깔끔한  \"레스토랑이랑 같이 하고있는 감자튀김집인데요 진짜 제가 태어나서 먹어본 포테이토중에 최고로 맛있어요 하림사장님이 벨기에 가서 감자튀김을 먹었는데 너무 맛있어서 파는거래요 근데 진짜.\"'},\n",
       " {'url': 'https://barnabas.tistory.com/313',\n",
       "  'content': 'h541은 현대백화점 판교점 9층에 있는 이탈리안 레스토랑이에요. 사실 이탈리안 레스토랑이 많지는 않는데 9층 식당가에 있다. 입구에는 이렇게 이쁜'},\n",
       " {'url': 'https://bakedyoo.tistory.com/16',\n",
       "  'content': '[성남]판교 이탈리안 레스토랑 추천 #울프스덴 일단은 식후경/외식생활 [성남]판교 이탈리안 레스토랑 추천 #울프스덴 만만하게(?) 자주 오게 되는 판교 울프스덴-   뇨끼 대신에 파스타와 리조또를 시키기로 하고 갈릭 엔초비 파스타와 꽃게와 홍게살이 들어간 연이어 나온 갈릭 엔초비 파스타와 그란치오 리조또-   간이나 맛이 그날그날마다 살짝씩 편차가 있다 판교 울프스덴 영업시간  (브레이크 타임 X) 판교 울프스덴 주차  [성수]솥밥 맛집/서울숲 맛집/웨이팅 후기 #쵸리상경\\xa0\\xa0(0)2022.05.09[성남]생활의달인 맛집/중식코스요리/수정구 중식당 #중림\\xa0\\xa0(0)2022.05.05[평창]인생 오리고기 맛집 #다키닥팜\\xa0\\xa0(0)2022.04.18[김포]수제만두, 비빔만두 맛집 #상화만두\\xa0\\xa0(0)2022.04.17[성남]판교 장어덮밥 맛집 #마루심\\xa0\\xa0(0)2022.04.06 분당 파스타, 판교 뇨끼, 판교 리조또, 판교 수비드 문어, 판교 스테이크, 판교 울프스덴, 판교 이탈리안 레스토랑, 판교 테라스, 판교 파스타 [성남]판교 장어덮밥 맛집 #마루심 [이탈리아]#7 돌로미티 서부에서 동부로: 코르티⋯ 2024.08.02 [이탈리아]#6 돌로미티 서부, 오르티세이 마을:⋯ 2024.06.06 [이탈리아]#6 돌로미티 서부, 오르티세이 마을:⋯ 2024.06.06 포스팅 잘보고 갑니다.'}]"
      ]
     },
     "execution_count": 2,
     "metadata": {},
     "output_type": "execute_result"
    }
   ],
   "source": [
    "from langchain_community.tools.tavily_search import TavilySearchResults\n",
    "\n",
    "search = TavilySearchResults(k=5)\n",
    "search.invoke(\"판교 근처 이탈리안 레스토랑은 무엇이 있나?\")"
   ]
  },
  {
   "cell_type": "code",
   "execution_count": 3,
   "metadata": {},
   "outputs": [
    {
     "name": "stderr",
     "output_type": "stream",
     "text": [
      "/tmp/ipykernel_18776/2564496123.py:11: LangChainDeprecationWarning: The class `OpenAIEmbeddings` was deprecated in LangChain 0.0.9 and will be removed in 1.0. An updated version of the class exists in the :class:`~langchain-openai package and should be used instead. To use it run `pip install -U :class:`~langchain-openai` and import as `from :class:`~langchain_openai import OpenAIEmbeddings``.\n",
      "  vector = FAISS.from_documents(split_docs, OpenAIEmbeddings())\n"
     ]
    }
   ],
   "source": [
    "from langchain.text_splitter import RecursiveCharacterTextSplitter\n",
    "from langchain_community.vectorstores import FAISS\n",
    "#from langchain.embeddings import HuggingFaceEmbeddings\n",
    "from langchain.embeddings import OpenAIEmbeddings\n",
    "from langchain.document_loaders import PyPDFLoader\n",
    "\n",
    "loader = PyPDFLoader(\"data/소나기.pdf\")\n",
    "text_splitter = RecursiveCharacterTextSplitter(chunk_size=1000, chunk_overlap=100)\n",
    "\n",
    "split_docs = loader.load_and_split(text_splitter)\n",
    "vector = FAISS.from_documents(split_docs, OpenAIEmbeddings())\n",
    "retriever = vector.as_retriever()"
   ]
  },
  {
   "cell_type": "code",
   "execution_count": 4,
   "metadata": {},
   "outputs": [
    {
     "name": "stderr",
     "output_type": "stream",
     "text": [
      "/tmp/ipykernel_18776/2624849030.py:1: LangChainDeprecationWarning: The method `BaseRetriever.get_relevant_documents` was deprecated in langchain-core 0.1.46 and will be removed in 1.0. Use :meth:`~invoke` instead.\n",
      "  retriever.get_relevant_documents(\n"
     ]
    },
    {
     "data": {
      "text/plain": [
       "[Document(id='8eacbbc4-8c3a-43b1-bc78-fee547cd031d', metadata={'producer': 'Hancom PDF 1.3.0.542', 'creator': 'Hwp 2018 10.0.0.11131', 'creationdate': '2021-11-29T20:05:50+09:00', 'author': 'MYHOME', 'moddate': '2021-11-29T20:05:50+09:00', 'pdfversion': '1.4', 'source': 'data/소나기.pdf', 'total_pages': 7, 'page': 0, 'page_label': '1'}, page_content='소나기황순원소년은 개울가에서 소녀를 보자 곧 윤 초시네 증손녀(曾孫女)딸이라는 걸 알 수 있었다. 소녀는 개울에다 손을 잠그고 물장난을 하고 있는 것이다. 서울서는 이런 개울물을 보지 못하기나 한 듯이.벌써 며칠째 소녀는, 학교에서 돌아오는 길에 물장난이었다. 그런데, 어제까지 개울 기슭에서 하더니, 오늘은 징검다리 한가운데 앉아서 하고 있다.소년은 개울둑에 앉아 버렸다. 소녀가 비키기를 기다리자는 것이다.요행 지나가는 사람이 있어, 소녀가 길을 비켜 주었다.다음 날은 좀 늦게 개울가로 나왔다.이 날은 소녀가 징검다리 한가운데 앉아 세수를 하고 있었다. 분홍 스웨터 소매를 걷어올린 목덜미가 마냥 희었다.한참 세수를 하고 나더니, 이번에는 물 속을 빤히 들여다 본다. 얼굴이라도 비추어 보는 것이리라. 갑자기 물을 움켜 낸다. 고기 새끼라도 지나가는 듯.소녀는 소년이 개울둑에 앉아 있는 걸 아는지 모르는지 그냥 날쌔게 물만 움켜 낸다. 그러나, 번번이 허탕이다. 그대로 재미있는 양, 자꾸 물만 움킨다. 어제처럼 개울을 건너는 사람이 있어야 길을 비킬 모양이다.그러다가 소녀가 물 속에서 무엇을 하나 집어 낸다. 하얀 조약돌이었다. 그리고는 벌떡 일어나 팔짝팔짝 징검다리를 뛰어 건너간다.다 건너가더니만 홱 이리로 돌아서며,“이 바보.”조약돌이 날아왔다.소년은 저도 모르게 벌떡 일어섰다.단발 머리를 나풀거리며 소녀가 막 달린다. 갈밭 사잇길로 들어섰다. 뒤에는 청량한 가을 햇살 아래 빛나는 갈꽃뿐.이제 저쯤 갈밭머리로 소녀가 나타나리라. 꽤 오랜 시간이 지났다고 생각됐다. 그런데도 소녀는 나타나지 않는다. 발돋움을 했다. 그러고도 상당한 시간이 지났다고 생각됐다.저 쪽 갈밭머리에 갈꽃이 한 옴큼 움직였다. 소녀가 갈꽃을 안고 있었다. 그리고, 이제는 천천한 걸음이었다. 유난히 맑은 가을 햇살이 소녀의 갈꽃머리에서 반짝거렸다. 소녀 아닌 갈꽃이 들길을 걸어가는 것만 같았다.소년은 이 갈꽃이 아주 뵈지 않게 되기까지 그대로 서 있었다. 문득, 소녀가 던지 조약돌을'),\n",
       " Document(id='dce6b79f-d48b-44e6-b088-e63811c951ce', metadata={'producer': 'Hancom PDF 1.3.0.542', 'creator': 'Hwp 2018 10.0.0.11131', 'creationdate': '2021-11-29T20:05:50+09:00', 'author': 'MYHOME', 'moddate': '2021-11-29T20:05:50+09:00', 'pdfversion': '1.4', 'source': 'data/소나기.pdf', 'total_pages': 7, 'page': 1, 'page_label': '2'}, page_content='소년은 두 손으로 물 속의 얼굴을 움키었다. 몇 번이고 움키었다. 그러다가 깜짝 놀라 일어나고 말았다. 소녀가 이리로 건너오고 있지 않느냐.‘숨어서 내가 하는 일을 엿보고 있었구나.’ 소년은 달리기를 시작했다. 디딤돌을 헛디뎠다. 한 발이 물 속에 빠졌다. 더 달렸다.몸을 가릴 데가 있어 줬으면 좋겠다. 이 쪽 길에는 갈밭도 없다. 메밀밭이다. 전에 없이 메밀꽃 냄새가 짜릿하게 코를 찌른다고 생각됐다. 미간이 아찔했다. 찝찔한 액체가 입술에 흘러들었다. 코피였다.소년은 한 손으로 코피를 훔쳐내면서 그냥 달렸다. 어디선가 ‘바보, 바보’ 하는 소리가 자꾸만 뒤따라오는 것 같았다.토요일이었다.개울가에 이르니, 며칠째 보이지 않던 소녀가 건너편 가에 앉아 물장난을 하고 있었다. 모르는 체 징검다리를 건너기 시작했다. 얼마 전에 소녀 앞에서 한 번 실수를 했을 뿐, 여태 큰길 가듯이 건너던 징검다리를 오늘은 조심스럽게 건넌다.“얘.”못 들은 체했다. 둑 위로 올라섰다.“얘, 이게 무슨 조개지?”자기도 모르게 돌아섰다. 소녀의 맑고 검은 눈과 마주쳤다. 얼른 소녀의 손바닥으로 눈을 떨구었다.“비단조개.”“이름도 참 곱다.”갈림길에 왔다. 여기서 소녀는 아래편으로 한 삼 마장쯤, 소년은 우대로 한 십 리 가까운 길을 가야 한다.소녀가 걸음을 멈추며,“너, 저 산 너머에 가 본 일 있니?”벌 끝을 가리켰다.“없다.”“우리, 가 보지 않으련? 시골 오니까 혼자서 심심해 못 견디겠다.”“저래 봬도 멀다.”“멀면 얼마나 멀기에? 서울 있을 땐 사뭇 먼 데까지 소풍 갔었다.”소녀의 눈이 금새 ‘바보,바보,’할 것만 같았다.논 사잇길로 들어섰다. 벼 가을걷이하는 곁을 지났다.허수아비가 서 있었다. 소년이 새끼줄을 흔들었다. 참새가 몇 마리 날아간다. ‘참, 오늘은 일찍 집으로 돌아가 텃논의 참새를 봐야 할걸.’ 하는 생각이 든다.“야, 재밌다!”소녀가 허수아비 줄을 잡더니 흔들어 댄다. 허수아비가 자꾸 우쭐거리며 춤을 춘다. 소녀의 왼쪽 볼에 살포시 보조개가 패었다.저만큼'),\n",
       " Document(id='3334a32f-9728-4916-bac1-3fe95e210194', metadata={'producer': 'Hancom PDF 1.3.0.542', 'creator': 'Hwp 2018 10.0.0.11131', 'creationdate': '2021-11-29T20:05:50+09:00', 'author': 'MYHOME', 'moddate': '2021-11-29T20:05:50+09:00', 'pdfversion': '1.4', 'source': 'data/소나기.pdf', 'total_pages': 7, 'page': 5, 'page_label': '6'}, page_content='소년은 소녀네가 이사해 오기 전에 벌써 어른들의 이야기를 들어서, 윤 초시 손자(孫子)가 서울서 사업에 실패해 가지고 고향에 돌아오지 않을 수 없게 되었다는 걸 알고 있었다. 그것이 이번에는 고향 집마저 남의 손에 넘기게 된 모양이었다.“왜 그런지 난 이사 가는 게 싫어졌다. 어른들이 하는 일이니 어쩔 수 없지만…….”전에 없이, 소녀의 까만 눈에 쓸쓸한 빛이 떠돌았다.소녀와 헤어져 돌아오는 길에, 소년은 혼잣속으로, 소녀가 이사를 간다는 말을 수없이 되뇌어 보았다. 무어 그리 안타까울 것도 서러울 것도 없었다. 그렇건만, 소년은 지금 자기가 씹고 있는 대추알의 단맛을 모르고 있었다.이 날 밤, 소년은 몰래 덕쇠 할아버지네 호두밭으로 갔다.낯에 봐 두었던 나무로 올라갔다. 그리고, 봐 두었던 가지를 향해 작대기를 내리쳤다. 호두송이 떨어지는 소리가 별나게 크게 들렸다. 가슴이 선뜩했다. 그러나 다음 순간, 굵은 호두야 많이 떨어져라, 많이 떨어져라, 저도 모를 힘에 이끌려 마구 작대기를 내리 치는 것이었다.돌아오는 길에는 열 이틀 달이 지우는 그늘만 골라 디뎠다. 그늘의 고마움을 처음 느꼈다.불룩한 주머니를 어루만졌다. 호두송이를 맨손으로 깠다가는 옴이 오르기 쉽다는 말 같은 건 아무렇지도 않았다. 그저 근동에서 제일 가는 이 덕쇠 할아버지네 호두를 어서 소녀에게 맛보여야 한다는 생각만이 앞섰다.그러다, 아차 하는 생각이 들었다. 소녀더러 병이 좀 낫거들랑 이사 가기 전에 한 번 개울가로 나와 달라는 말을 못해 둔 것이었다. 바보 같은것, 바보 같은것.이튿날, 소년이 학교에서 돌아오니, 아버지가 나들이옷으로 갈아입고 닭 한 마리를 안고 있었다.어디 가시느냐고 물었다.그 말에도 대꾸도 없이, 아버지는 안고 있는 닭의 무게를 겨냥해 보면서,“이만하면 될까?”어머니가 망태기를 내주며,“벌써 며칠째 ‘걀걀’하고 알 날 자리를 보던데요. 크진 않아도살은 쪘을 거여요.”소년이 이번에는 어머니한테 아버지가 어디 가시느냐고 물어 보았다.“저, 서당골 윤 초시 댁에 가신다.'),\n",
       " Document(id='e3913942-c57a-450d-85bb-88dfe806e903', metadata={'producer': 'Hancom PDF 1.3.0.542', 'creator': 'Hwp 2018 10.0.0.11131', 'creationdate': '2021-11-29T20:05:50+09:00', 'author': 'MYHOME', 'moddate': '2021-11-29T20:05:50+09:00', 'pdfversion': '1.4', 'source': 'data/소나기.pdf', 'total_pages': 7, 'page': 2, 'page_label': '3'}, page_content='돌아다보니, 소녀는 지금 자기가 지나쳐 온 허수아비를 흔들고 있다. 좀 전 허수아비보다 더 우쭐거린다.논이 끝난 곳에 도랑이 하나 있었다. 소녀가 먼저 뛰어 건넜다.거기서부터 산 밑까지는 밭이었다.수숫단을 세워 놓은 밭머리를 지났다.“저게 뭐니?”“원두막.”“여기 참외, 맛있니?”“그럼, 참외 맛도 좋지만 수박 맛은 더 좋다.”“하나 먹어 봤으면.”소년이 참외 그루에 심은 무우밭으로 들어가, 무우 두 밑을 뽑아 왔다. 아직 밑이 덜 들어 있었다. 잎을 비틀어 팽개친 후, 소녀에게 한개 건넨다. 그리고는 이렇게 먹어야 한다는 듯이, 먼저 대강이를 한 입 베물어 낸 다음, 손톱으로 한 돌이 껍질을 벗겨 우쩍 깨문다.소녀도 따라 했다. 그러나, 세 입도 못 먹고,“아, 맵고 지려.”하며 집어던지고 만다.“참, 맛 없어 못 먹겠다.”소년이 더 멀리 팽개쳐 버렸다.산이 가까워졌다.단풍이 눈에 따가웠다.“야아!”소녀가 산을 향해 달려갔다. 이번은 소년이 뒤따라 달리지 않았다. 그러고도 곧 소녀보다 더 많은 꽃을 꺾었다.“이게 들국화, 이게 싸리꽃, 이게 도라지꽃,…….”“도라지꽃이 이렇게 예쁜 줄은 몰랐네. 난 보랏빛이 좋아!…… 그런데, 이 양산 같이 생긴 노란 꽃이 뭐지?”“마타리꽃.”소녀는 마타리꽃을 양산 받듯이 해 보인다. 약간 상기된 얼굴에 살포시 보조개를 떠올리며.다시 소년은 꽃 한 옴큼을 꺾어 왔다. 싱싱한 꽃가지만 골라 소녀에게 건넨다.그러나 소녀는“하나도 버리지 마라.”산마루께로 올라갔다.맞은편 골짜기에 오순도순 초가집이 몇 모여 있었다.누가 말할 것도 아닌데, 바위에 나란히 걸터앉았다. 유달리 주위가 조용해진 것 같았다. 따가운 가을 햇살만이 말라가는 풀 냄새를 퍼뜨리고 있었다.“저건 또 무슨 꽃이지?”적잖이 비탈진 곳에 칡덩굴이 엉키어 꽃을 달고 있었다.“꼭 등꽃 같네. 서울 우리 학교에 큰 등나무가 있었단다. 저 꽃을 보니까 등나무 밑에서 놀던 동무들 생각이 난다.”소녀가 조용히 일어나 비탈진 곳으로 간다. 꽃송이가 많이 달린 줄기를 잡고 끊기')]"
      ]
     },
     "execution_count": 4,
     "metadata": {},
     "output_type": "execute_result"
    }
   ],
   "source": [
    "retriever.get_relevant_documents(\n",
    "    \"소녀는 소년과 어디에서 처음 만났나?\"\n",
    ")"
   ]
  },
  {
   "cell_type": "code",
   "execution_count": 5,
   "metadata": {},
   "outputs": [],
   "source": [
    "from langchain.tools.retriever import create_retriever_tool\n",
    "\n",
    "retriever_tool = create_retriever_tool(\n",
    "    retriever,\n",
    "    name=\"pdf_search\",\n",
    "    description=\"PDF 문서로부터 정보를 검색한다. 소년과 소녀에 대한 내용은 이 도구를 사용한다.\",\n",
    ")"
   ]
  },
  {
   "cell_type": "code",
   "execution_count": 6,
   "metadata": {},
   "outputs": [],
   "source": [
    "tools = [search, retriever_tool]"
   ]
  },
  {
   "cell_type": "code",
   "execution_count": 7,
   "metadata": {},
   "outputs": [
    {
     "name": "stderr",
     "output_type": "stream",
     "text": [
      "/tmp/ipykernel_18776/2407036373.py:3: LangChainDeprecationWarning: The class `ChatOpenAI` was deprecated in LangChain 0.0.10 and will be removed in 1.0. An updated version of the class exists in the :class:`~langchain-openai package and should be used instead. To use it run `pip install -U :class:`~langchain-openai` and import as `from :class:`~langchain_openai import ChatOpenAI``.\n",
      "  llm = ChatOpenAI(model=\"gpt-4o-mini\", temperature=0)\n"
     ]
    }
   ],
   "source": [
    "from langchain.chat_models import ChatOpenAI\n",
    "\n",
    "llm = ChatOpenAI(model=\"gpt-4o-mini\", temperature=0)"
   ]
  },
  {
   "cell_type": "code",
   "execution_count": 8,
   "metadata": {},
   "outputs": [
    {
     "name": "stderr",
     "output_type": "stream",
     "text": [
      "/home/ubuntu/.local/lib/python3.10/site-packages/langsmith/client.py:253: LangSmithMissingAPIKeyWarning: API key must be provided when using hosted LangSmith API\n",
      "  warnings.warn(\n"
     ]
    },
    {
     "data": {
      "text/plain": [
       "[SystemMessagePromptTemplate(prompt=PromptTemplate(input_variables=[], input_types={}, partial_variables={}, template='You are a helpful assistant'), additional_kwargs={}),\n",
       " MessagesPlaceholder(variable_name='chat_history', optional=True),\n",
       " HumanMessagePromptTemplate(prompt=PromptTemplate(input_variables=['input'], input_types={}, partial_variables={}, template='{input}'), additional_kwargs={}),\n",
       " MessagesPlaceholder(variable_name='agent_scratchpad')]"
      ]
     },
     "execution_count": 8,
     "metadata": {},
     "output_type": "execute_result"
    }
   ],
   "source": [
    "from langchain import hub\n",
    "\n",
    "prompt = hub.pull(\"hwchase17/openai-functions-agent\")\n",
    "prompt.messages"
   ]
  },
  {
   "cell_type": "code",
   "execution_count": 9,
   "metadata": {},
   "outputs": [],
   "source": [
    "from langchain.agents import create_openai_functions_agent\n",
    "\n",
    "agent = create_openai_functions_agent(llm, tools, prompt)\n"
   ]
  },
  {
   "cell_type": "code",
   "execution_count": 10,
   "metadata": {},
   "outputs": [],
   "source": [
    "from langchain.agents import AgentExecutor\n",
    "\n",
    "agent_executor = AgentExecutor(agent=agent, tools=tools, verbose=True)"
   ]
  },
  {
   "cell_type": "code",
   "execution_count": 11,
   "metadata": {},
   "outputs": [
    {
     "name": "stdout",
     "output_type": "stream",
     "text": [
      "\n",
      "\n",
      "\u001b[1m> Entering new AgentExecutor chain...\u001b[0m\n",
      "\u001b[32;1m\u001b[1;3m\n",
      "Invoking: `tavily_search_results_json` with `{'query': '2022 월드컵 결승전 결과'}`\n",
      "\n",
      "\n",
      "\u001b[0m\u001b[36;1m\u001b[1;3m[{'url': 'https://ko.wikipedia.org/wiki/2022%EB%85%84_FIFA_%EC%9B%94%EB%93%9C%EC%BB%B5_%EA%B2%B0%EC%8A%B9%EC%A0%84', 'content': '2022년 FIFA 월드컵 결승전 - 위키백과, 우리 모두의 백과사전 2022년 FIFA 월드컵 결승전 2022년 FIFA 월드컵 결승전우승을 자축하는 아르헨티나 지지자들아르헨티나프랑스33연장전아르헨티나가 승부차기 4–2로 승리하였다.날짜2022년 12월 18일\\xa0(2022-12-18)장소루사일 아이코닉 스타디움, 루사일최우수 선수리오넬 메시 (아르헨티나)[1]심판시몬 마르치니아크 (폴란드)관중 수88,966날씨부분적 흐림22\\xa0°C (72\\xa0°F)습도 64%[2][3]← 20182026 → 2022년 FIFA 월드컵 결승전(아랍어: كأس العالم لكرة القدم 2022, 영어: 2022 FIFA World Cup Final)은 2022년 12월 18일에 2022년 FIFA 월드컵의 우승 팀을 가리기 위해 열린 경기이다. | 아르헨티나   | 3 – 3 (연장전) |   프랑스 | 2022년 FIFA 월드컵 결승전 2022년 FIFA 월드컵 결승전  - 공식 웹사이트 2022년 FIFA 월드컵 2022년 FIFA 월드컵 2022년 FIFA 월드컵 최종 결과 2022년 FIFA 월드컵 2022년 FIFA 월드컵 결승전'}, {'url': 'https://namu.wiki/w/2022%20FIFA%20%EC%9B%94%EB%93%9C%EC%BB%B5%20%EC%B9%B4%ED%83%80%EB%A5%B4/%EA%B2%B0%EC%8A%B9', 'content': '5. 경기 결과 - 아르헨티나 3 : 3 프랑스 (A.E.T. 4 : 2 P.S.O.). 5.1. 선발 명단5.2. 경기 실황.'}, {'url': 'https://radiokorea.com/event/pages/worldcup2022/', 'content': '프랑스는 19일(한국시간) 카타르 루사일 스타디움에서 열린 아르헨티나와 2022 카타르 월드컵 결승전에서 연장전까지 3-3으로 맞선 끝에 승부차기에서 2-4로 패해 준우승에'}, {'url': 'https://www.youtube.com/watch?v=JXvO166gkM8', 'content': \"[속보] '메시 2골' 아르헨티나, 프랑스 승부차기로 꺾고 카타르월드컵 우승 / YTN\\n YTN\\n4880000 subscribers\\n1600 likes\\n376812 views\\n18 Dec 2022\\n2022 카타르 월드컵 결승전에서 승부차기까지 가는 대접전 끝에 아르헨티나가 프랑스를 꺾으며 36년만의 우승을 차지했습니다.\\n\\n아르헨티나는 리오넬 메시의 멀티골과 디마리아의 한 골, 프랑스는 음바페의 해트트릭으로 스코어는 3:3, 연장까지 양팀 모두 세 골씩 주고받은 뒤 승부차기에 돌입했는데요.\\n\\n승부차기 끝에 결국 아르헨티나가 승리를 거뒀습니다. \\n\\n아르헨티나의 이번 월드컵 우승은 1978년, 1986년에 이어 3번째입니다.\\n\\n우승의 주역, 리오넬 메시는 마침내 월드컵 트로피를 들어올리며 자신의 라스트 댄스를 화려하게 장식했습니다.\\n\\n\\n\\n\\n\\n※ '당신의 제보가 뉴스가 됩니다'\\n[카카오톡] YTN 검색해 채널 추가\\n[전화] 02-398-8585\\n[메일] social@ytn.co.kr\\n\\n▶ 기사 원문 : https://www.ytn.co.kr/_ln/0107_202212190310449006\\n▶ 제보 하기 : https://mj.ytn.co.kr/mj/mj_write.php\\n\\n▣ YTN 유튜브 채널 구독 : http://goo.gl/Ytb5SZ\\n\\nⓒ YTN 무단 전재 및 재배포금지\\n836 comments\\n\"}, {'url': 'https://m.blog.naver.com/skjung114/222958247502', 'content': '2022 카타르 월드컵 축구 결과 결승 우승 상금 준우승 상금 아르헨티나 메시 프로필 vs 음바페 프로필 아르헨티나 vs 프랑스 일정 중계 결과 순위 성적 승점 전력 비교 분석 : 네이버 블로그 2022 카타르 월드컵 축구 결과 결승 우승 상금 준우승 상금 아르헨티나 메시 프로필 vs 음바페 프로필 아르헨티나 vs 프랑스 일정 중계 결과 순위 성적 승점 전력 비교 분석 아르헨티나 프랑스 결승 중계 일정 2022 카타르 월드컵 결승 대진표 결과 축구 4강 결과 성적 순위 기록 피파랭킹 전력분석 비교 선수명단 3 4위전 대진표 일정■일정 2022.12.19.월 00:00 ■경기 장소 Lusail Stadium ■중계 ■아르헨티나 프랑스 전력분석 비교 순... {\"title\":\"2022 카타르 월드컵 축구 결과 결승 우승 상금 준우승 상금 아르헨티나 메시 프로필 vs 음바페 프로필 아르헨티나 vs 프랑스 일정 중계 결과 순위 성적 승점 전력 비교 분석\",\"source\":\"https://blog.naver.com/skjung114/222958247502\",\"blogName\":\"\\'괜찮아, ..\",\"domainIdOrBlogId\":\"skjung114\",\"nicknameOrBlogId\":\"희망드림\",\"logNo\":222958247502,\"smartEditorVersion\":4,\"blogDisplay\":true,\"lineDisplay\":true,\"outsideDisplay\":true,\"cafeDisplay\":true,\"meDisplay\":true}'}]\u001b[0m\u001b[32;1m\u001b[1;3m2022년 FIFA 월드컵 결승전은 2022년 12월 18일에 열렸습니다. 아르헨티나와 프랑스가 맞붙었고, 경기는 3-3으로 끝났습니다. 연장전 후 승부차기에서 아르헨티나가 4-2로 승리하여 우승을 차지했습니다. 이로써 아르헨티나는 1978년과 1986년에 이어 세 번째 월드컵 우승을 기록했습니다. 최우수 선수(MVP)는 리오넬 메시가 선정되었습니다.\n",
      "\n",
      "자세한 내용은 [위키백과](https://ko.wikipedia.org/wiki/2022%EB%85%84_FIFA_%EC%9B%94%EB%93%9C%EC%BB%B5_%EA%B2%B0%EC%8A%B9%EC%A0%84)에서 확인하실 수 있습니다.\u001b[0m\n",
      "\n",
      "\u001b[1m> Finished chain.\u001b[0m\n",
      "답변: 2022년 FIFA 월드컵 결승전은 2022년 12월 18일에 열렸습니다. 아르헨티나와 프랑스가 맞붙었고, 경기는 3-3으로 끝났습니다. 연장전 후 승부차기에서 아르헨티나가 4-2로 승리하여 우승을 차지했습니다. 이로써 아르헨티나는 1978년과 1986년에 이어 세 번째 월드컵 우승을 기록했습니다. 최우수 선수(MVP)는 리오넬 메시가 선정되었습니다.\n",
      "\n",
      "자세한 내용은 [위키백과](https://ko.wikipedia.org/wiki/2022%EB%85%84_FIFA_%EC%9B%94%EB%93%9C%EC%BB%B5_%EA%B2%B0%EC%8A%B9%EC%A0%84)에서 확인하실 수 있습니다.\n"
     ]
    }
   ],
   "source": [
    "response = agent_executor.invoke({\"input\": \"2022년 월드컵 결승전 결과를 알려줘.\"})\n",
    "print(f'답변: {response[\"output\"]}')"
   ]
  },
  {
   "cell_type": "code",
   "execution_count": 12,
   "metadata": {},
   "outputs": [
    {
     "name": "stdout",
     "output_type": "stream",
     "text": [
      "\n",
      "\n",
      "\u001b[1m> Entering new AgentExecutor chain...\u001b[0m\n",
      "\u001b[32;1m\u001b[1;3m\n",
      "Invoking: `pdf_search` with `{'query': '소년과 소녀는 어디에서 처음 만났나'}`\n",
      "\n",
      "\n",
      "\u001b[0m\u001b[33;1m\u001b[1;3m소나기황순원소년은 개울가에서 소녀를 보자 곧 윤 초시네 증손녀(曾孫女)딸이라는 걸 알 수 있었다. 소녀는 개울에다 손을 잠그고 물장난을 하고 있는 것이다. 서울서는 이런 개울물을 보지 못하기나 한 듯이.벌써 며칠째 소녀는, 학교에서 돌아오는 길에 물장난이었다. 그런데, 어제까지 개울 기슭에서 하더니, 오늘은 징검다리 한가운데 앉아서 하고 있다.소년은 개울둑에 앉아 버렸다. 소녀가 비키기를 기다리자는 것이다.요행 지나가는 사람이 있어, 소녀가 길을 비켜 주었다.다음 날은 좀 늦게 개울가로 나왔다.이 날은 소녀가 징검다리 한가운데 앉아 세수를 하고 있었다. 분홍 스웨터 소매를 걷어올린 목덜미가 마냥 희었다.한참 세수를 하고 나더니, 이번에는 물 속을 빤히 들여다 본다. 얼굴이라도 비추어 보는 것이리라. 갑자기 물을 움켜 낸다. 고기 새끼라도 지나가는 듯.소녀는 소년이 개울둑에 앉아 있는 걸 아는지 모르는지 그냥 날쌔게 물만 움켜 낸다. 그러나, 번번이 허탕이다. 그대로 재미있는 양, 자꾸 물만 움킨다. 어제처럼 개울을 건너는 사람이 있어야 길을 비킬 모양이다.그러다가 소녀가 물 속에서 무엇을 하나 집어 낸다. 하얀 조약돌이었다. 그리고는 벌떡 일어나 팔짝팔짝 징검다리를 뛰어 건너간다.다 건너가더니만 홱 이리로 돌아서며,“이 바보.”조약돌이 날아왔다.소년은 저도 모르게 벌떡 일어섰다.단발 머리를 나풀거리며 소녀가 막 달린다. 갈밭 사잇길로 들어섰다. 뒤에는 청량한 가을 햇살 아래 빛나는 갈꽃뿐.이제 저쯤 갈밭머리로 소녀가 나타나리라. 꽤 오랜 시간이 지났다고 생각됐다. 그런데도 소녀는 나타나지 않는다. 발돋움을 했다. 그러고도 상당한 시간이 지났다고 생각됐다.저 쪽 갈밭머리에 갈꽃이 한 옴큼 움직였다. 소녀가 갈꽃을 안고 있었다. 그리고, 이제는 천천한 걸음이었다. 유난히 맑은 가을 햇살이 소녀의 갈꽃머리에서 반짝거렸다. 소녀 아닌 갈꽃이 들길을 걸어가는 것만 같았다.소년은 이 갈꽃이 아주 뵈지 않게 되기까지 그대로 서 있었다. 문득, 소녀가 던지 조약돌을\n",
      "\n",
      "소년은 소녀네가 이사해 오기 전에 벌써 어른들의 이야기를 들어서, 윤 초시 손자(孫子)가 서울서 사업에 실패해 가지고 고향에 돌아오지 않을 수 없게 되었다는 걸 알고 있었다. 그것이 이번에는 고향 집마저 남의 손에 넘기게 된 모양이었다.“왜 그런지 난 이사 가는 게 싫어졌다. 어른들이 하는 일이니 어쩔 수 없지만…….”전에 없이, 소녀의 까만 눈에 쓸쓸한 빛이 떠돌았다.소녀와 헤어져 돌아오는 길에, 소년은 혼잣속으로, 소녀가 이사를 간다는 말을 수없이 되뇌어 보았다. 무어 그리 안타까울 것도 서러울 것도 없었다. 그렇건만, 소년은 지금 자기가 씹고 있는 대추알의 단맛을 모르고 있었다.이 날 밤, 소년은 몰래 덕쇠 할아버지네 호두밭으로 갔다.낯에 봐 두었던 나무로 올라갔다. 그리고, 봐 두었던 가지를 향해 작대기를 내리쳤다. 호두송이 떨어지는 소리가 별나게 크게 들렸다. 가슴이 선뜩했다. 그러나 다음 순간, 굵은 호두야 많이 떨어져라, 많이 떨어져라, 저도 모를 힘에 이끌려 마구 작대기를 내리 치는 것이었다.돌아오는 길에는 열 이틀 달이 지우는 그늘만 골라 디뎠다. 그늘의 고마움을 처음 느꼈다.불룩한 주머니를 어루만졌다. 호두송이를 맨손으로 깠다가는 옴이 오르기 쉽다는 말 같은 건 아무렇지도 않았다. 그저 근동에서 제일 가는 이 덕쇠 할아버지네 호두를 어서 소녀에게 맛보여야 한다는 생각만이 앞섰다.그러다, 아차 하는 생각이 들었다. 소녀더러 병이 좀 낫거들랑 이사 가기 전에 한 번 개울가로 나와 달라는 말을 못해 둔 것이었다. 바보 같은것, 바보 같은것.이튿날, 소년이 학교에서 돌아오니, 아버지가 나들이옷으로 갈아입고 닭 한 마리를 안고 있었다.어디 가시느냐고 물었다.그 말에도 대꾸도 없이, 아버지는 안고 있는 닭의 무게를 겨냥해 보면서,“이만하면 될까?”어머니가 망태기를 내주며,“벌써 며칠째 ‘걀걀’하고 알 날 자리를 보던데요. 크진 않아도살은 쪘을 거여요.”소년이 이번에는 어머니한테 아버지가 어디 가시느냐고 물어 보았다.“저, 서당골 윤 초시 댁에 가신다.\n",
      "\n",
      "소년은 두 손으로 물 속의 얼굴을 움키었다. 몇 번이고 움키었다. 그러다가 깜짝 놀라 일어나고 말았다. 소녀가 이리로 건너오고 있지 않느냐.‘숨어서 내가 하는 일을 엿보고 있었구나.’ 소년은 달리기를 시작했다. 디딤돌을 헛디뎠다. 한 발이 물 속에 빠졌다. 더 달렸다.몸을 가릴 데가 있어 줬으면 좋겠다. 이 쪽 길에는 갈밭도 없다. 메밀밭이다. 전에 없이 메밀꽃 냄새가 짜릿하게 코를 찌른다고 생각됐다. 미간이 아찔했다. 찝찔한 액체가 입술에 흘러들었다. 코피였다.소년은 한 손으로 코피를 훔쳐내면서 그냥 달렸다. 어디선가 ‘바보, 바보’ 하는 소리가 자꾸만 뒤따라오는 것 같았다.토요일이었다.개울가에 이르니, 며칠째 보이지 않던 소녀가 건너편 가에 앉아 물장난을 하고 있었다. 모르는 체 징검다리를 건너기 시작했다. 얼마 전에 소녀 앞에서 한 번 실수를 했을 뿐, 여태 큰길 가듯이 건너던 징검다리를 오늘은 조심스럽게 건넌다.“얘.”못 들은 체했다. 둑 위로 올라섰다.“얘, 이게 무슨 조개지?”자기도 모르게 돌아섰다. 소녀의 맑고 검은 눈과 마주쳤다. 얼른 소녀의 손바닥으로 눈을 떨구었다.“비단조개.”“이름도 참 곱다.”갈림길에 왔다. 여기서 소녀는 아래편으로 한 삼 마장쯤, 소년은 우대로 한 십 리 가까운 길을 가야 한다.소녀가 걸음을 멈추며,“너, 저 산 너머에 가 본 일 있니?”벌 끝을 가리켰다.“없다.”“우리, 가 보지 않으련? 시골 오니까 혼자서 심심해 못 견디겠다.”“저래 봬도 멀다.”“멀면 얼마나 멀기에? 서울 있을 땐 사뭇 먼 데까지 소풍 갔었다.”소녀의 눈이 금새 ‘바보,바보,’할 것만 같았다.논 사잇길로 들어섰다. 벼 가을걷이하는 곁을 지났다.허수아비가 서 있었다. 소년이 새끼줄을 흔들었다. 참새가 몇 마리 날아간다. ‘참, 오늘은 일찍 집으로 돌아가 텃논의 참새를 봐야 할걸.’ 하는 생각이 든다.“야, 재밌다!”소녀가 허수아비 줄을 잡더니 흔들어 댄다. 허수아비가 자꾸 우쭐거리며 춤을 춘다. 소녀의 왼쪽 볼에 살포시 보조개가 패었다.저만큼\n",
      "\n",
      "햇살이 소녀의 갈꽃머리에서 반짝거렸다. 소녀 아닌 갈꽃이 들길을 걸어가는 것만 같았다.소년은 이 갈꽃이 아주 뵈지 않게 되기까지 그대로 서 있었다. 문득, 소녀가 던지 조약돌을 내려다보았다. 물기가 걷혀 있었다. 소년은 조약돌을 집어 주머니에 넣었다.다음 날부터 좀더 늦게 개울가로 나왔다. 소녀의 그림자가 뵈지 않았다. 다행이었다.그러나, 이상한 일이었다. 소녀의 그림자가 뵈지 않는 날이 계속될수록 소년의 가슴 한 구석에는 어딘가 허전함이 자리 잡는 것이었다. 주머니 속 조약돌을 주무르는 버릇이 생겼다.그러한 어떤 날, 소년은 전에 소녀가 앉아 물장난을 하던 징검다리 한가운데에 앉아 보았다. 물 속에 손을 잠갔다. 세수를 하였다. 물 속을 들여다보았다. 검게 탄 얼굴이 그대로 비치었다. 싫었다.\u001b[0m\u001b[32;1m\u001b[1;3m소년과 소녀는 개울가에서 처음 만났습니다. 소년은 개울가에 앉아 있던 소녀를 보았고, 소녀는 물장난을 하고 있었습니다. 소녀는 윤 초시네 증손녀로, 소년은 그녀가 물장난을 하는 모습을 지켜보며 그녀와의 첫 만남을 경험하게 됩니다. 이 만남은 그들의 관계의 시작을 알리는 중요한 순간이었습니다.\u001b[0m\n",
      "\n",
      "\u001b[1m> Finished chain.\u001b[0m\n",
      "답변: 소년과 소녀는 개울가에서 처음 만났습니다. 소년은 개울가에 앉아 있던 소녀를 보았고, 소녀는 물장난을 하고 있었습니다. 소녀는 윤 초시네 증손녀로, 소년은 그녀가 물장난을 하는 모습을 지켜보며 그녀와의 첫 만남을 경험하게 됩니다. 이 만남은 그들의 관계의 시작을 알리는 중요한 순간이었습니다.\n"
     ]
    }
   ],
   "source": [
    "response = agent_executor.invoke({\"input\": \"소년과 소녀는 어디에서 처음 만났나?\"})\n",
    "print(f'답변: {response[\"output\"]}')\n"
   ]
  },
  {
   "cell_type": "code",
   "execution_count": 13,
   "metadata": {},
   "outputs": [
    {
     "name": "stdout",
     "output_type": "stream",
     "text": [
      "\n",
      "\n",
      "\u001b[1m> Entering new AgentExecutor chain...\u001b[0m\n",
      "\u001b[32;1m\u001b[1;3m안녕하세요! 판교에 사는 개발자시군요. 만나서 반갑습니다! 개발 관련해서 궁금한 점이나 이야기하고 싶은 주제가 있으면 언제든지 말씀해 주세요.\u001b[0m\n",
      "\n",
      "\u001b[1m> Finished chain.\u001b[0m\n",
      "답변: 안녕하세요! 판교에 사는 개발자시군요. 만나서 반갑습니다! 개발 관련해서 궁금한 점이나 이야기하고 싶은 주제가 있으면 언제든지 말씀해 주세요.\n"
     ]
    }
   ],
   "source": [
    "response = agent_executor.invoke(\n",
    "    {\"input\": \"안녕! 나는 판교에 살고 있는 개발자야. 만나서 반가와\", \"chat_history\": []}\n",
    ")\n",
    "print(f'답변: {response[\"output\"]}')\n"
   ]
  },
  {
   "cell_type": "code",
   "execution_count": 14,
   "metadata": {},
   "outputs": [
    {
     "name": "stdout",
     "output_type": "stream",
     "text": [
      "\n",
      "\n",
      "\u001b[1m> Entering new AgentExecutor chain...\u001b[0m\n",
      "\u001b[32;1m\u001b[1;3m판교에 살고 있다고 하셨습니다. 맞나요?\u001b[0m\n",
      "\n",
      "\u001b[1m> Finished chain.\u001b[0m\n",
      "답변: 판교에 살고 있다고 하셨습니다. 맞나요?\n"
     ]
    }
   ],
   "source": [
    "from langchain_core.messages import AIMessage, HumanMessage\n",
    "\n",
    "response = agent_executor.invoke(\n",
    "    {\n",
    "        \"chat_history\": [\n",
    "            HumanMessage(content=\"안녕! 나는 판교에 살고 있는 개발자야. 만나서 반가와\"),\n",
    "            AIMessage(\n",
    "                content=\"안녕하세요! 판교에서 개발하시는 건가요? 어떤 도움이 필요하신가요? 함께 무엇을 이야기해볼까요?\"\n",
    "            ),\n",
    "        ],\n",
    "        \"input\": \"내가 어디 산다고 했지?\",\n",
    "    }\n",
    ")\n",
    "print(f'답변: {response[\"output\"]}')\n"
   ]
  },
  {
   "cell_type": "code",
   "execution_count": 15,
   "metadata": {},
   "outputs": [],
   "source": [
    "from langchain_community.chat_message_histories import ChatMessageHistory\n",
    "from langchain_core.runnables.history import RunnableWithMessageHistory\n",
    "\n",
    "message_history = ChatMessageHistory()"
   ]
  },
  {
   "cell_type": "code",
   "execution_count": 16,
   "metadata": {},
   "outputs": [],
   "source": [
    "agent_with_chat_history = RunnableWithMessageHistory(\n",
    "    agent_executor,\n",
    "    lambda session_id: message_history,\n",
    "    input_messages_key=\"input\",\n",
    "    history_messages_key=\"chat_history\",\n",
    ")"
   ]
  },
  {
   "cell_type": "code",
   "execution_count": 17,
   "metadata": {},
   "outputs": [
    {
     "name": "stdout",
     "output_type": "stream",
     "text": [
      "\n",
      "\n",
      "\u001b[1m> Entering new AgentExecutor chain...\u001b[0m\n",
      "\u001b[32;1m\u001b[1;3m\n",
      "Invoking: `pdf_search` with `{'query': '소년은 소녀에게 무엇을 주려고 했지?'}`\n",
      "\n",
      "\n",
      "\u001b[0m\u001b[33;1m\u001b[1;3m소나기황순원소년은 개울가에서 소녀를 보자 곧 윤 초시네 증손녀(曾孫女)딸이라는 걸 알 수 있었다. 소녀는 개울에다 손을 잠그고 물장난을 하고 있는 것이다. 서울서는 이런 개울물을 보지 못하기나 한 듯이.벌써 며칠째 소녀는, 학교에서 돌아오는 길에 물장난이었다. 그런데, 어제까지 개울 기슭에서 하더니, 오늘은 징검다리 한가운데 앉아서 하고 있다.소년은 개울둑에 앉아 버렸다. 소녀가 비키기를 기다리자는 것이다.요행 지나가는 사람이 있어, 소녀가 길을 비켜 주었다.다음 날은 좀 늦게 개울가로 나왔다.이 날은 소녀가 징검다리 한가운데 앉아 세수를 하고 있었다. 분홍 스웨터 소매를 걷어올린 목덜미가 마냥 희었다.한참 세수를 하고 나더니, 이번에는 물 속을 빤히 들여다 본다. 얼굴이라도 비추어 보는 것이리라. 갑자기 물을 움켜 낸다. 고기 새끼라도 지나가는 듯.소녀는 소년이 개울둑에 앉아 있는 걸 아는지 모르는지 그냥 날쌔게 물만 움켜 낸다. 그러나, 번번이 허탕이다. 그대로 재미있는 양, 자꾸 물만 움킨다. 어제처럼 개울을 건너는 사람이 있어야 길을 비킬 모양이다.그러다가 소녀가 물 속에서 무엇을 하나 집어 낸다. 하얀 조약돌이었다. 그리고는 벌떡 일어나 팔짝팔짝 징검다리를 뛰어 건너간다.다 건너가더니만 홱 이리로 돌아서며,“이 바보.”조약돌이 날아왔다.소년은 저도 모르게 벌떡 일어섰다.단발 머리를 나풀거리며 소녀가 막 달린다. 갈밭 사잇길로 들어섰다. 뒤에는 청량한 가을 햇살 아래 빛나는 갈꽃뿐.이제 저쯤 갈밭머리로 소녀가 나타나리라. 꽤 오랜 시간이 지났다고 생각됐다. 그런데도 소녀는 나타나지 않는다. 발돋움을 했다. 그러고도 상당한 시간이 지났다고 생각됐다.저 쪽 갈밭머리에 갈꽃이 한 옴큼 움직였다. 소녀가 갈꽃을 안고 있었다. 그리고, 이제는 천천한 걸음이었다. 유난히 맑은 가을 햇살이 소녀의 갈꽃머리에서 반짝거렸다. 소녀 아닌 갈꽃이 들길을 걸어가는 것만 같았다.소년은 이 갈꽃이 아주 뵈지 않게 되기까지 그대로 서 있었다. 문득, 소녀가 던지 조약돌을\n",
      "\n",
      "소년은 두 손으로 물 속의 얼굴을 움키었다. 몇 번이고 움키었다. 그러다가 깜짝 놀라 일어나고 말았다. 소녀가 이리로 건너오고 있지 않느냐.‘숨어서 내가 하는 일을 엿보고 있었구나.’ 소년은 달리기를 시작했다. 디딤돌을 헛디뎠다. 한 발이 물 속에 빠졌다. 더 달렸다.몸을 가릴 데가 있어 줬으면 좋겠다. 이 쪽 길에는 갈밭도 없다. 메밀밭이다. 전에 없이 메밀꽃 냄새가 짜릿하게 코를 찌른다고 생각됐다. 미간이 아찔했다. 찝찔한 액체가 입술에 흘러들었다. 코피였다.소년은 한 손으로 코피를 훔쳐내면서 그냥 달렸다. 어디선가 ‘바보, 바보’ 하는 소리가 자꾸만 뒤따라오는 것 같았다.토요일이었다.개울가에 이르니, 며칠째 보이지 않던 소녀가 건너편 가에 앉아 물장난을 하고 있었다. 모르는 체 징검다리를 건너기 시작했다. 얼마 전에 소녀 앞에서 한 번 실수를 했을 뿐, 여태 큰길 가듯이 건너던 징검다리를 오늘은 조심스럽게 건넌다.“얘.”못 들은 체했다. 둑 위로 올라섰다.“얘, 이게 무슨 조개지?”자기도 모르게 돌아섰다. 소녀의 맑고 검은 눈과 마주쳤다. 얼른 소녀의 손바닥으로 눈을 떨구었다.“비단조개.”“이름도 참 곱다.”갈림길에 왔다. 여기서 소녀는 아래편으로 한 삼 마장쯤, 소년은 우대로 한 십 리 가까운 길을 가야 한다.소녀가 걸음을 멈추며,“너, 저 산 너머에 가 본 일 있니?”벌 끝을 가리켰다.“없다.”“우리, 가 보지 않으련? 시골 오니까 혼자서 심심해 못 견디겠다.”“저래 봬도 멀다.”“멀면 얼마나 멀기에? 서울 있을 땐 사뭇 먼 데까지 소풍 갔었다.”소녀의 눈이 금새 ‘바보,바보,’할 것만 같았다.논 사잇길로 들어섰다. 벼 가을걷이하는 곁을 지났다.허수아비가 서 있었다. 소년이 새끼줄을 흔들었다. 참새가 몇 마리 날아간다. ‘참, 오늘은 일찍 집으로 돌아가 텃논의 참새를 봐야 할걸.’ 하는 생각이 든다.“야, 재밌다!”소녀가 허수아비 줄을 잡더니 흔들어 댄다. 허수아비가 자꾸 우쭐거리며 춤을 춘다. 소녀의 왼쪽 볼에 살포시 보조개가 패었다.저만큼\n",
      "\n",
      "소년은 소녀네가 이사해 오기 전에 벌써 어른들의 이야기를 들어서, 윤 초시 손자(孫子)가 서울서 사업에 실패해 가지고 고향에 돌아오지 않을 수 없게 되었다는 걸 알고 있었다. 그것이 이번에는 고향 집마저 남의 손에 넘기게 된 모양이었다.“왜 그런지 난 이사 가는 게 싫어졌다. 어른들이 하는 일이니 어쩔 수 없지만…….”전에 없이, 소녀의 까만 눈에 쓸쓸한 빛이 떠돌았다.소녀와 헤어져 돌아오는 길에, 소년은 혼잣속으로, 소녀가 이사를 간다는 말을 수없이 되뇌어 보았다. 무어 그리 안타까울 것도 서러울 것도 없었다. 그렇건만, 소년은 지금 자기가 씹고 있는 대추알의 단맛을 모르고 있었다.이 날 밤, 소년은 몰래 덕쇠 할아버지네 호두밭으로 갔다.낯에 봐 두었던 나무로 올라갔다. 그리고, 봐 두었던 가지를 향해 작대기를 내리쳤다. 호두송이 떨어지는 소리가 별나게 크게 들렸다. 가슴이 선뜩했다. 그러나 다음 순간, 굵은 호두야 많이 떨어져라, 많이 떨어져라, 저도 모를 힘에 이끌려 마구 작대기를 내리 치는 것이었다.돌아오는 길에는 열 이틀 달이 지우는 그늘만 골라 디뎠다. 그늘의 고마움을 처음 느꼈다.불룩한 주머니를 어루만졌다. 호두송이를 맨손으로 깠다가는 옴이 오르기 쉽다는 말 같은 건 아무렇지도 않았다. 그저 근동에서 제일 가는 이 덕쇠 할아버지네 호두를 어서 소녀에게 맛보여야 한다는 생각만이 앞섰다.그러다, 아차 하는 생각이 들었다. 소녀더러 병이 좀 낫거들랑 이사 가기 전에 한 번 개울가로 나와 달라는 말을 못해 둔 것이었다. 바보 같은것, 바보 같은것.이튿날, 소년이 학교에서 돌아오니, 아버지가 나들이옷으로 갈아입고 닭 한 마리를 안고 있었다.어디 가시느냐고 물었다.그 말에도 대꾸도 없이, 아버지는 안고 있는 닭의 무게를 겨냥해 보면서,“이만하면 될까?”어머니가 망태기를 내주며,“벌써 며칠째 ‘걀걀’하고 알 날 자리를 보던데요. 크진 않아도살은 쪘을 거여요.”소년이 이번에는 어머니한테 아버지가 어디 가시느냐고 물어 보았다.“저, 서당골 윤 초시 댁에 가신다.\n",
      "\n",
      "햇살이 소녀의 갈꽃머리에서 반짝거렸다. 소녀 아닌 갈꽃이 들길을 걸어가는 것만 같았다.소년은 이 갈꽃이 아주 뵈지 않게 되기까지 그대로 서 있었다. 문득, 소녀가 던지 조약돌을 내려다보았다. 물기가 걷혀 있었다. 소년은 조약돌을 집어 주머니에 넣었다.다음 날부터 좀더 늦게 개울가로 나왔다. 소녀의 그림자가 뵈지 않았다. 다행이었다.그러나, 이상한 일이었다. 소녀의 그림자가 뵈지 않는 날이 계속될수록 소년의 가슴 한 구석에는 어딘가 허전함이 자리 잡는 것이었다. 주머니 속 조약돌을 주무르는 버릇이 생겼다.그러한 어떤 날, 소년은 전에 소녀가 앉아 물장난을 하던 징검다리 한가운데에 앉아 보았다. 물 속에 손을 잠갔다. 세수를 하였다. 물 속을 들여다보았다. 검게 탄 얼굴이 그대로 비치었다. 싫었다.\u001b[0m\u001b[32;1m\u001b[1;3m소년은 소녀에게 하얀 조약돌을 주려고 했습니다. 소녀가 개울가에서 물장난을 하던 중, 소년은 소녀가 물속에서 조약돌을 집어내는 모습을 보았고, 그 조약돌을 주머니에 넣었습니다. 소년은 소녀에게 이 조약돌을 맛보여주고 싶어 했고, 소녀가 이사 가기 전에 다시 만날 수 있기를 바랐습니다.\u001b[0m\n",
      "\n",
      "\u001b[1m> Finished chain.\u001b[0m\n",
      "답변: 소년은 소녀에게 하얀 조약돌을 주려고 했습니다. 소녀가 개울가에서 물장난을 하던 중, 소년은 소녀가 물속에서 조약돌을 집어내는 모습을 보았고, 그 조약돌을 주머니에 넣었습니다. 소년은 소녀에게 이 조약돌을 맛보여주고 싶어 했고, 소녀가 이사 가기 전에 다시 만날 수 있기를 바랐습니다.\n"
     ]
    }
   ],
   "source": [
    "response = agent_with_chat_history.invoke(\n",
    "    {\n",
    "        \"input\": \"소년은 소녀에게 무엇을 주려고 했지?\"\n",
    "    },\n",
    "    config={\"configurable\": {\"session_id\": \"MyTestSessionID\"}},\n",
    ")\n",
    "print(f\"답변: {response['output']}\")"
   ]
  },
  {
   "cell_type": "code",
   "execution_count": 18,
   "metadata": {},
   "outputs": [
    {
     "name": "stdout",
     "output_type": "stream",
     "text": [
      "\n",
      "\n",
      "\u001b[1m> Entering new AgentExecutor chain...\u001b[0m\n",
      "\u001b[32;1m\u001b[1;3m\n",
      "Invoking: `pdf_search` with `{'query': '소년 소녀 하얀 조약돌 언제 주었지'}`\n",
      "\n",
      "\n",
      "\u001b[0m\u001b[33;1m\u001b[1;3m소나기황순원소년은 개울가에서 소녀를 보자 곧 윤 초시네 증손녀(曾孫女)딸이라는 걸 알 수 있었다. 소녀는 개울에다 손을 잠그고 물장난을 하고 있는 것이다. 서울서는 이런 개울물을 보지 못하기나 한 듯이.벌써 며칠째 소녀는, 학교에서 돌아오는 길에 물장난이었다. 그런데, 어제까지 개울 기슭에서 하더니, 오늘은 징검다리 한가운데 앉아서 하고 있다.소년은 개울둑에 앉아 버렸다. 소녀가 비키기를 기다리자는 것이다.요행 지나가는 사람이 있어, 소녀가 길을 비켜 주었다.다음 날은 좀 늦게 개울가로 나왔다.이 날은 소녀가 징검다리 한가운데 앉아 세수를 하고 있었다. 분홍 스웨터 소매를 걷어올린 목덜미가 마냥 희었다.한참 세수를 하고 나더니, 이번에는 물 속을 빤히 들여다 본다. 얼굴이라도 비추어 보는 것이리라. 갑자기 물을 움켜 낸다. 고기 새끼라도 지나가는 듯.소녀는 소년이 개울둑에 앉아 있는 걸 아는지 모르는지 그냥 날쌔게 물만 움켜 낸다. 그러나, 번번이 허탕이다. 그대로 재미있는 양, 자꾸 물만 움킨다. 어제처럼 개울을 건너는 사람이 있어야 길을 비킬 모양이다.그러다가 소녀가 물 속에서 무엇을 하나 집어 낸다. 하얀 조약돌이었다. 그리고는 벌떡 일어나 팔짝팔짝 징검다리를 뛰어 건너간다.다 건너가더니만 홱 이리로 돌아서며,“이 바보.”조약돌이 날아왔다.소년은 저도 모르게 벌떡 일어섰다.단발 머리를 나풀거리며 소녀가 막 달린다. 갈밭 사잇길로 들어섰다. 뒤에는 청량한 가을 햇살 아래 빛나는 갈꽃뿐.이제 저쯤 갈밭머리로 소녀가 나타나리라. 꽤 오랜 시간이 지났다고 생각됐다. 그런데도 소녀는 나타나지 않는다. 발돋움을 했다. 그러고도 상당한 시간이 지났다고 생각됐다.저 쪽 갈밭머리에 갈꽃이 한 옴큼 움직였다. 소녀가 갈꽃을 안고 있었다. 그리고, 이제는 천천한 걸음이었다. 유난히 맑은 가을 햇살이 소녀의 갈꽃머리에서 반짝거렸다. 소녀 아닌 갈꽃이 들길을 걸어가는 것만 같았다.소년은 이 갈꽃이 아주 뵈지 않게 되기까지 그대로 서 있었다. 문득, 소녀가 던지 조약돌을\n",
      "\n",
      "햇살이 소녀의 갈꽃머리에서 반짝거렸다. 소녀 아닌 갈꽃이 들길을 걸어가는 것만 같았다.소년은 이 갈꽃이 아주 뵈지 않게 되기까지 그대로 서 있었다. 문득, 소녀가 던지 조약돌을 내려다보았다. 물기가 걷혀 있었다. 소년은 조약돌을 집어 주머니에 넣었다.다음 날부터 좀더 늦게 개울가로 나왔다. 소녀의 그림자가 뵈지 않았다. 다행이었다.그러나, 이상한 일이었다. 소녀의 그림자가 뵈지 않는 날이 계속될수록 소년의 가슴 한 구석에는 어딘가 허전함이 자리 잡는 것이었다. 주머니 속 조약돌을 주무르는 버릇이 생겼다.그러한 어떤 날, 소년은 전에 소녀가 앉아 물장난을 하던 징검다리 한가운데에 앉아 보았다. 물 속에 손을 잠갔다. 세수를 하였다. 물 속을 들여다보았다. 검게 탄 얼굴이 그대로 비치었다. 싫었다.\n",
      "\n",
      "라고 했다. 할 수 없이 뒷걸음질을 쳤다. 그 바람에, 소녀가 안고 있는 꽃묶음이 망그러졌다. 그러나, 소녀는 상관없다고 생각했다. 비에 젖은 소년의 몸 내음새가 확 코에 끼얹혀졌다. 그러나, 고개를 돌리지 않았다. 도리어 소년의 몸기운으로 해서 떨리던 몸이 적이 누그러지는 느낌이었다.소란하던 수숫잎 소리가 뚝 그쳤다. 밖이 멀개졌다.수숫단 속을 벗어 나왔다. 멀지 않은 앞쪽에 햇빛이 눈부시게 내리붓고 있었다. 도랑 있는 곳까지 와 보니, 엄청나게 물이 불어 있었다. 빛마저 제법 붉은 흙탕물이었다. 뛰어 건널 수가 없었다.소년이 등을 돌려 댔다. 소녀가 순순히 업히었다. 걷어올린 소년의 잠방이까지 물이 올라왔다. 소녀는 ‘어머나’소리를 지르며 소년의 목을 끌어안았다.개울가에 다다르기 전에, 가을 하늘이 언제 그랬는가 싶게 구름 한 점 없이 쪽빛으로 개어 있었다.그 뒤로 소녀의 모습은 뵈지 않았다. 매일같이 개울가로 달려와 봐도 뵈지 않았다.학교에서 쉬는 시간에 운동장을 살피기도 했다. 남 몰래 5학년 여자 반을 엿보기도 했다. 그러나, 뵈지 않았다.그날도 소년은 주머니 속 흰 조약돌만 만지작거리며 개울가로 나왔다. 그랬더니, 이 쪽 개울둑에 소녀가 앉아 있는 게 아닌가.소년은 가슴부터 두근거렸다.“그 동안 앓았다.”어쩐지 소녀의 얼굴이 해쓱해져 있었다.“그 날, 소나기 맞은 탓 아냐?”소녀가 가만히 고개를 끄덕이었다.“인제 다 났냐?”“아직도…….”“그럼, 누워 있어야지.”“하도 갑갑해서 나왔다. ……참, 그 날 재밌었어……. 그런데그 날 어디서 이런 물이 들었는지 잘 지지 않는다.”소녀가 분홍 스웨터 앞자락을 내려다본다. 거기에 검붉은 진흙물 같은 게 들어 있었다.소녀가 가만히 보조개를 떠올리며,“그래 이게 무슨 물 같니?”소년은 스웨터 앞자락만 바라보고 있었다.“내, 생각해 냈다. 그 날, 도랑을 건너면서 내가 업힌 일이 있지? 그 때, 네 등에서 옮은 물이다.”소년은 얼굴이 확 달아오름을 느꼈다.갈림길에서 소녀는“저, 오늘 아침에 우리 집에서 대추를\n",
      "\n",
      "소년은 두 손으로 물 속의 얼굴을 움키었다. 몇 번이고 움키었다. 그러다가 깜짝 놀라 일어나고 말았다. 소녀가 이리로 건너오고 있지 않느냐.‘숨어서 내가 하는 일을 엿보고 있었구나.’ 소년은 달리기를 시작했다. 디딤돌을 헛디뎠다. 한 발이 물 속에 빠졌다. 더 달렸다.몸을 가릴 데가 있어 줬으면 좋겠다. 이 쪽 길에는 갈밭도 없다. 메밀밭이다. 전에 없이 메밀꽃 냄새가 짜릿하게 코를 찌른다고 생각됐다. 미간이 아찔했다. 찝찔한 액체가 입술에 흘러들었다. 코피였다.소년은 한 손으로 코피를 훔쳐내면서 그냥 달렸다. 어디선가 ‘바보, 바보’ 하는 소리가 자꾸만 뒤따라오는 것 같았다.토요일이었다.개울가에 이르니, 며칠째 보이지 않던 소녀가 건너편 가에 앉아 물장난을 하고 있었다. 모르는 체 징검다리를 건너기 시작했다. 얼마 전에 소녀 앞에서 한 번 실수를 했을 뿐, 여태 큰길 가듯이 건너던 징검다리를 오늘은 조심스럽게 건넌다.“얘.”못 들은 체했다. 둑 위로 올라섰다.“얘, 이게 무슨 조개지?”자기도 모르게 돌아섰다. 소녀의 맑고 검은 눈과 마주쳤다. 얼른 소녀의 손바닥으로 눈을 떨구었다.“비단조개.”“이름도 참 곱다.”갈림길에 왔다. 여기서 소녀는 아래편으로 한 삼 마장쯤, 소년은 우대로 한 십 리 가까운 길을 가야 한다.소녀가 걸음을 멈추며,“너, 저 산 너머에 가 본 일 있니?”벌 끝을 가리켰다.“없다.”“우리, 가 보지 않으련? 시골 오니까 혼자서 심심해 못 견디겠다.”“저래 봬도 멀다.”“멀면 얼마나 멀기에? 서울 있을 땐 사뭇 먼 데까지 소풍 갔었다.”소녀의 눈이 금새 ‘바보,바보,’할 것만 같았다.논 사잇길로 들어섰다. 벼 가을걷이하는 곁을 지났다.허수아비가 서 있었다. 소년이 새끼줄을 흔들었다. 참새가 몇 마리 날아간다. ‘참, 오늘은 일찍 집으로 돌아가 텃논의 참새를 봐야 할걸.’ 하는 생각이 든다.“야, 재밌다!”소녀가 허수아비 줄을 잡더니 흔들어 댄다. 허수아비가 자꾸 우쭐거리며 춤을 춘다. 소녀의 왼쪽 볼에 살포시 보조개가 패었다.저만큼\u001b[0m\u001b[32;1m\u001b[1;3m소년은 소녀에게 하얀 조약돌을 주려고 했던 것은 소녀가 개울가에서 물장난을 하던 중에 조약돌을 집어낸 후였습니다. 소녀가 조약돌을 던지며 \"이 바보\"라고 말한 후, 소년은 그 조약돌을 주머니에 넣었습니다. 이후 소년은 소녀와 다시 만날 수 있기를 바라며 그 조약돌을 소중히 여겼습니다.\u001b[0m\n",
      "\n",
      "\u001b[1m> Finished chain.\u001b[0m\n",
      "답변: 소년은 소녀에게 하얀 조약돌을 주려고 했던 것은 소녀가 개울가에서 물장난을 하던 중에 조약돌을 집어낸 후였습니다. 소녀가 조약돌을 던지며 \"이 바보\"라고 말한 후, 소년은 그 조약돌을 주머니에 넣었습니다. 이후 소년은 소녀와 다시 만날 수 있기를 바라며 그 조약돌을 소중히 여겼습니다.\n"
     ]
    }
   ],
   "source": [
    "response = agent_with_chat_history.invoke(\n",
    "    {\n",
    "        \"input\": \"언제 주었지?\"\n",
    "    },\n",
    "    config={\"configurable\": {\"session_id\": \"MyTestSessionID\"}},\n",
    ")\n",
    "print(f\"답변: {response['output']}\")"
   ]
  }
 ],
 "metadata": {
  "kernelspec": {
   "display_name": "Python 3",
   "language": "python",
   "name": "python3"
  },
  "language_info": {
   "codemirror_mode": {
    "name": "ipython",
    "version": 3
   },
   "file_extension": ".py",
   "mimetype": "text/x-python",
   "name": "python",
   "nbconvert_exporter": "python",
   "pygments_lexer": "ipython3",
   "version": "3.10.12"
  }
 },
 "nbformat": 4,
 "nbformat_minor": 2
}
